{
 "cells": [
  {
   "cell_type": "markdown",
   "metadata": {},
   "source": [
    "# Plink.jl\n",
    "\n",
    "Julia functions to read binary Plink files (.fam, .bim, .bed). The .bed file is memory-mapped as a `BitArray`."
   ]
  },
  {
   "cell_type": "code",
   "execution_count": 1,
   "metadata": {},
   "outputs": [],
   "source": [
    "using Plink"
   ]
  },
  {
   "cell_type": "markdown",
   "metadata": {},
   "source": [
    "Open a Plink file\n"
   ]
  },
  {
   "cell_type": "code",
   "execution_count": 2,
   "metadata": {},
   "outputs": [
    {
     "data": {
      "text/plain": [
       "<PLINK file (1056 samples x 4 markers) at ../data/plink>"
      ]
     },
     "metadata": {},
     "output_type": "display_data"
    }
   ],
   "source": [
    "p = PlinkFile(\"../data/plink\")"
   ]
  },
  {
   "cell_type": "markdown",
   "metadata": {},
   "source": [
    "Number of samples"
   ]
  },
  {
   "cell_type": "code",
   "execution_count": 3,
   "metadata": {},
   "outputs": [
    {
     "data": {
      "text/plain": [
       "1056"
      ]
     },
     "metadata": {},
     "output_type": "display_data"
    }
   ],
   "source": [
    "nsamples(p)"
   ]
  },
  {
   "cell_type": "markdown",
   "metadata": {},
   "source": [
    "Samples are stored in a `Sample` struct with fields\n",
    "\n",
    "- fid (family id)\n",
    "- iid (individual id within family)\n",
    "- iid of father (within family)\n",
    "- iid of mother (within family)\n",
    "- sex (1 = male, 2 = female, 0 = unknown)\n",
    "- phenotype (1 = control, 2 = case, 0/-9 = missing)"
   ]
  },
  {
   "cell_type": "code",
   "execution_count": 4,
   "metadata": {},
   "outputs": [
    {
     "data": {
      "text/plain": [
       "5-element Vector{Sample}:\n",
       " Sample(\"1\", \"1\", \"0\", \"0\", 1, 2)\n",
       " Sample(\"2\", \"1\", \"0\", \"0\", 1, 2)\n",
       " Sample(\"3\", \"1\", \"0\", \"0\", 1, 2)\n",
       " Sample(\"4\", \"1\", \"0\", \"0\", 1, 2)\n",
       " Sample(\"5\", \"1\", \"0\", \"0\", 1, 2)"
      ]
     },
     "metadata": {},
     "output_type": "display_data"
    }
   ],
   "source": [
    "samples(p)[1:5]"
   ]
  },
  {
   "cell_type": "markdown",
   "metadata": {},
   "source": [
    "Number of markers"
   ]
  },
  {
   "cell_type": "code",
   "execution_count": 5,
   "metadata": {},
   "outputs": [
    {
     "data": {
      "text/plain": [
       "4"
      ]
     },
     "metadata": {},
     "output_type": "display_data"
    }
   ],
   "source": [
    "nmarkers(p)"
   ]
  },
  {
   "cell_type": "markdown",
   "metadata": {},
   "source": [
    "Markers are stored in a `Marker` struct with fields\n",
    "- chrom\n",
    "- id\n",
    "- cM\n",
    "- pos\n",
    "- a1\n",
    "- a2"
   ]
  },
  {
   "cell_type": "code",
   "execution_count": 6,
   "metadata": {},
   "outputs": [
    {
     "data": {
      "text/plain": [
       "4-element Vector{Marker}:\n",
       " Marker(\"1\", \"rs001\", 2.09, 123446, \"2\", \"1\")\n",
       " Marker(\"1\", \"rs002\", 2.15, 123452, \"2\", \"1\")\n",
       " Marker(\"1\", \"rs003\", 2.2, 123457, \"2\", \"1\")\n",
       " Marker(\"1\", \"rs004\", 2.21, 123458, \"1\", \"2\")"
      ]
     },
     "metadata": {},
     "output_type": "display_data"
    }
   ],
   "source": [
    "markers(p)"
   ]
  },
  {
   "cell_type": "markdown",
   "metadata": {},
   "source": [
    "Genotypes (A2,A1) can be accessed by indexing `PlinkFile` using [sample_idx, marker_idx].\n",
    "\n",
    "Mapping from (A1, A2) to genotypes:\n",
    "\n",
    "- (false, false): Hom a1\n",
    "- (false, true):  Missing\n",
    "- (true, false): Het\n",
    "- (true, true): Hom a2\n",
    "\n",
    "NOTE: Plink refers to a genotype as A2A1"
   ]
  },
  {
   "cell_type": "code",
   "execution_count": 7,
   "metadata": {},
   "outputs": [
    {
     "data": {
      "text/plain": [
       "(true, false)"
      ]
     },
     "metadata": {},
     "output_type": "display_data"
    }
   ],
   "source": [
    "p[12,1]"
   ]
  },
  {
   "cell_type": "markdown",
   "metadata": {},
   "source": [
    "Single alleles A1 and A2 can also be accessed directly as `BitArray` views."
   ]
  },
  {
   "cell_type": "code",
   "execution_count": 13,
   "metadata": {},
   "outputs": [
    {
     "data": {
      "text/plain": [
       "(true, false)"
      ]
     },
     "metadata": {},
     "output_type": "display_data"
    }
   ],
   "source": [
    "p.A2[12,1], p.A1[12,2]"
   ]
  },
  {
   "cell_type": "markdown",
   "metadata": {},
   "source": [
    "The index of a marker in the Plink file (using linear search) can be obtained using `marker_index`."
   ]
  },
  {
   "cell_type": "code",
   "execution_count": 9,
   "metadata": {},
   "outputs": [
    {
     "data": {
      "text/plain": [
       "3"
      ]
     },
     "metadata": {},
     "output_type": "display_data"
    }
   ],
   "source": [
    "mi = marker_index(p, \"rs003\")"
   ]
  },
  {
   "cell_type": "code",
   "execution_count": 10,
   "metadata": {},
   "outputs": [
    {
     "data": {
      "text/plain": [
       "Marker(\"1\", \"rs003\", 2.2, 123457, \"2\", \"1\")"
      ]
     },
     "metadata": {},
     "output_type": "display_data"
    }
   ],
   "source": [
    "markers(p)[mi]"
   ]
  },
  {
   "cell_type": "markdown",
   "metadata": {},
   "source": [
    "The index of a sample in the Plink file (using linear search) can be obtained using `sample_index`"
   ]
  },
  {
   "cell_type": "code",
   "execution_count": 11,
   "metadata": {},
   "outputs": [
    {
     "data": {
      "text/plain": [
       "12"
      ]
     },
     "metadata": {},
     "output_type": "display_data"
    }
   ],
   "source": [
    "si = sample_index(p, \"12\", \"1\")"
   ]
  },
  {
   "cell_type": "code",
   "execution_count": 12,
   "metadata": {},
   "outputs": [
    {
     "data": {
      "text/plain": [
       "Sample(\"12\", \"1\", \"0\", \"0\", 1, 2)"
      ]
     },
     "metadata": {},
     "output_type": "display_data"
    }
   ],
   "source": [
    "samples(p)[si]"
   ]
  }
 ],
 "metadata": {
  "kernelspec": {
   "display_name": "Julia 1.8.0",
   "language": "julia",
   "name": "julia-1.8"
  },
  "language_info": {
   "file_extension": ".jl",
   "mimetype": "application/julia",
   "name": "julia",
   "version": "1.8.0"
  },
  "orig_nbformat": 4
 },
 "nbformat": 4,
 "nbformat_minor": 2
}
